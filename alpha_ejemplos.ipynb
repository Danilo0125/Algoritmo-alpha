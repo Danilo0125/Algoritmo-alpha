{
 "cells": [
  {
   "cell_type": "markdown",
   "metadata": {},
   "source": [
    "# Ejemplos de aplicación del Algoritmo Alpha\n",
    "\n",
    "Este notebook demuestra la aplicación del algoritmo Alpha a diferentes logs de eventos."
   ]
  },
  {
   "cell_type": "code",
   "execution_count": 1,
   "metadata": {},
   "outputs": [],
   "source": [
    "# Importar la clase Alpha desde el módulo\n",
    "from alpha import Alpha\n",
    "\n",
    "# Función auxiliar para ejecutar el algoritmo Alpha en un log y mostrar resultados clave\n",
    "def ejecutar_alpha(nombre_log, log):\n",
    "    print(f\"\\n=== ANÁLISIS DEL LOG {nombre_log} ===\\n\")\n",
    "    print(f\"Log: {log}\")\n",
    "    \n",
    "    # Crear instancia y procesar\n",
    "    alpha = Alpha()\n",
    "    try:\n",
    "        alpha.analizar_log(log).calcular_relaciones().ejecutar_ocho_pasos()\n",
    "        \n",
    "        # Mostrar resultados clave\n",
    "        print(f\"\\nActividades: {alpha.actividades}\")\n",
    "        print(f\"Tareas iniciales: {alpha.tareas_iniciales}\")\n",
    "        print(f\"Tareas finales: {alpha.tareas_finales}\")\n",
    "        \n",
    "        # Mostrar matriz de huella\n",
    "        print(\"\\nMatriz de huella:\")\n",
    "        print(alpha.construir_matriz_huella_pandas())\n",
    "        \n",
    "        # Mostrar lugares\n",
    "        print(\"\\nLugares identificados:\")\n",
    "        for idx, lugar in enumerate(alpha.pl):\n",
    "            entradas = \", \".join(sorted(lugar[0]))\n",
    "            salidas = \", \".join(sorted(lugar[1]))\n",
    "            print(f\"p{idx}: {{{entradas}}} → {{{salidas}}}\")\n",
    "        \n",
    "        print(\"\\nEjecutado correctamente\")\n",
    "    except Exception as e:\n",
    "        print(f\"\\nError al procesar: {e}\")\n",
    "    \n",
    "    print(\"\\n\" + \"-\"*50)"
   ]
  },
  {
   "cell_type": "markdown",
   "metadata": {},
   "source": [
    "## Logs de eventos de ejemplo"
   ]
  },
  {
   "cell_type": "code",
   "execution_count": null,
   "metadata": {},
   "outputs": [],
   "source": [
    "print(\"Ejemplos de logs de eventos:\")\n",
    "print(\"L1: <a,b,c,d>,<a,c,b,d>,<a,e,d>\")\n",
    "print(\"L2: <a,b,c,d,f>,<a,c,b,d,e>,<a,c,b,d,f>,<a,b,c,d,e>\")\n",
    "print(\"L3: <a,b,d>,<a,c,d>\")\n",
    "print(\"L4: <a,b,d>,<a,c,e>,<a,b,e>\")\n",
    "print(\"L5: <a,c,b>,<a,b,a>,<c,b,a>\")\n",
    "print(\"L6: <a,f,e,d,b>,<f,a,e,d,b>,<a,f,e,c,b>,<a,f,e,b,d>,<a,f,e,b,c>,<f,a,e,c,b>\")\n",
    "print(\"L7: <A,B,C,D,E,F,B,D,C,E,G>,<A,B,D,C,E,G>,<A,B,C,D,E,F,B,C,D,E,F,B,D,C,E,G>\")\n",
    "print(\"L8: <a,b,c,d>,<a,c,b,d>,<a,b,c,e,f,c,b,d>,<a,b,c,e,f,b,c,d>,<a,c,b,e,f,b,c,d>,<a,c,b,e,f,b,c,e,f,c,b,d>\")\n",
    "print(\"L9: <a,b,e,f>,<a,b,e,c,d,b,f>,<a,b,c,e,d,b,f>,<a,b,c,d,e,b,f>,<a,e,b,c,d,b,f>\")"
   ]
  },
  {
   "cell_type": "markdown",
   "metadata": {},
   "source": [
    "## Análisis del Log 1\n",
    "Este es uno de los ejemplos más básicos: una elección entre un flujo paralelo (b||c) y un camino simple (e)."
   ]
  },
  {
   "cell_type": "code",
   "execution_count": 2,
   "metadata": {},
   "outputs": [
    {
     "name": "stdout",
     "output_type": "stream",
     "text": [
      "\n",
      "=== ANÁLISIS DEL LOG L1 ===\n",
      "\n",
      "Log: [<a,b,c,d>,<a,c,b,d>,<a,e,d>]\n",
      "\n",
      "Actividades: ['a', 'b', 'c', 'd', 'e']\n",
      "Tareas iniciales: ['a']\n",
      "Tareas finales: ['d']\n",
      "\n",
      "Matriz de huella:\n",
      "    a   b   c   d   e\n",
      "a   #  ->  ->   #  ->\n",
      "b  <-   #  ||  ->   #\n",
      "c  <-  ||   #  ->   #\n",
      "d   #  <-  <-   #  <-\n",
      "e  <-   #   #  ->   #\n",
      "\n",
      "Lugares identificados:\n",
      "p0: {a} → {b, e}\n",
      "p1: {a} → {c, e}\n",
      "p2: {b, e} → {d}\n",
      "p3: {c, e} → {d}\n",
      "p4: {iL} → {a}\n",
      "p5: {d} → {oL}\n",
      "\n",
      "Ejecutado correctamente\n",
      "\n",
      "--------------------------------------------------\n"
     ]
    }
   ],
   "source": [
    "log1 = \"[<a,b,c,d>,<a,c,b,d>,<a,e,d>]\"\n",
    "ejecutar_alpha(\"L1\", log1)"
   ]
  },
  {
   "cell_type": "markdown",
   "metadata": {},
   "source": [
    "## Análisis del Log 2\n",
    "Este log muestra una elección entre dos salidas finales (e/f) después de un flujo paralelo."
   ]
  },
  {
   "cell_type": "code",
   "execution_count": 3,
   "metadata": {},
   "outputs": [
    {
     "name": "stdout",
     "output_type": "stream",
     "text": [
      "\n",
      "=== ANÁLISIS DEL LOG L2 ===\n",
      "\n",
      "Log: [<a,b,c,d,f>,<a,c,b,d,e>,<a,c,b,d,f>,<a,b,c,d,e>]\n",
      "\n",
      "Actividades: ['a', 'b', 'c', 'd', 'e', 'f']\n",
      "Tareas iniciales: ['a']\n",
      "Tareas finales: ['e', 'f']\n",
      "\n",
      "Matriz de huella:\n",
      "    a   b   c   d   e   f\n",
      "a   #  ->  ->   #   #   #\n",
      "b  <-   #  ||  ->   #   #\n",
      "c  <-  ||   #  ->   #   #\n",
      "d   #  <-  <-   #  ->  ->\n",
      "e   #   #   #  <-   #   #\n",
      "f   #   #   #  <-   #   #\n",
      "\n",
      "Lugares identificados:\n",
      "p0: {a} → {b, c}\n",
      "p1: {d} → {e, f}\n",
      "p2: {b, c} → {d}\n",
      "p3: {iL} → {a}\n",
      "p4: {e, f} → {oL}\n",
      "\n",
      "Ejecutado correctamente\n",
      "\n",
      "--------------------------------------------------\n"
     ]
    }
   ],
   "source": [
    "log2 = \"[<a,b,c,d,f>,<a,c,b,d,e>,<a,c,b,d,f>,<a,b,c,d,e>]\"\n",
    "ejecutar_alpha(\"L2\", log2)"
   ]
  },
  {
   "cell_type": "markdown",
   "metadata": {},
   "source": [
    "## Análisis del Log 3\n",
    "Muestra una elección sencilla (XOR) entre b y c."
   ]
  },
  {
   "cell_type": "code",
   "execution_count": 4,
   "metadata": {},
   "outputs": [
    {
     "name": "stdout",
     "output_type": "stream",
     "text": [
      "\n",
      "=== ANÁLISIS DEL LOG L3 ===\n",
      "\n",
      "Log: [<a,b,d>,<a,c,d>]\n",
      "\n",
      "Actividades: ['a', 'b', 'c', 'd']\n",
      "Tareas iniciales: ['a']\n",
      "Tareas finales: ['d']\n",
      "\n",
      "Matriz de huella:\n",
      "    a   b   c   d\n",
      "a   #  ->  ->   #\n",
      "b  <-   #   #  ->\n",
      "c  <-   #   #  ->\n",
      "d   #  <-  <-   #\n",
      "\n",
      "Lugares identificados:\n",
      "p0: {a} → {b, c}\n",
      "p1: {b, c} → {d}\n",
      "p2: {iL} → {a}\n",
      "p3: {d} → {oL}\n",
      "\n",
      "Ejecutado correctamente\n",
      "\n",
      "--------------------------------------------------\n"
     ]
    }
   ],
   "source": [
    "log3 = \"[<a,b,d>,<a,c,d>]\"\n",
    "ejecutar_alpha(\"L3\", log3)"
   ]
  },
  {
   "cell_type": "markdown",
   "metadata": {},
   "source": [
    "## Análisis del Log 4\n",
    "Este log tiene una estructura que puede ser compleja para el algoritmo Alpha, con rutas que llevan a diferentes finales."
   ]
  },
  {
   "cell_type": "code",
   "execution_count": 5,
   "metadata": {},
   "outputs": [
    {
     "name": "stdout",
     "output_type": "stream",
     "text": [
      "\n",
      "=== ANÁLISIS DEL LOG L4 ===\n",
      "\n",
      "Log: [<a,b,d>,<a,c,e>,<a,b,e>]\n",
      "\n",
      "Actividades: ['a', 'b', 'c', 'd', 'e']\n",
      "Tareas iniciales: ['a']\n",
      "Tareas finales: ['d', 'e']\n",
      "\n",
      "Matriz de huella:\n",
      "    a   b   c   d   e\n",
      "a   #  ->  ->   #   #\n",
      "b  <-   #   #  ->  ->\n",
      "c  <-   #   #   #  ->\n",
      "d   #  <-   #   #   #\n",
      "e   #  <-  <-   #   #\n",
      "\n",
      "Lugares identificados:\n",
      "p0: {a} → {b, c}\n",
      "p1: {b} → {d, e}\n",
      "p2: {b, c} → {e}\n",
      "p3: {iL} → {a}\n",
      "p4: {d, e} → {oL}\n",
      "\n",
      "Ejecutado correctamente\n",
      "\n",
      "--------------------------------------------------\n"
     ]
    }
   ],
   "source": [
    "log4 = \"[<a,b,d>,<a,c,e>,<a,b,e>]\"\n",
    "ejecutar_alpha(\"L4\", log4)"
   ]
  },
  {
   "cell_type": "markdown",
   "metadata": {},
   "source": [
    "## Análisis del Log 5\n",
    "Este log contiene un bucle (a→b→a), lo cual es un desafío para el algoritmo Alpha estándar."
   ]
  },
  {
   "cell_type": "code",
   "execution_count": 6,
   "metadata": {},
   "outputs": [
    {
     "name": "stdout",
     "output_type": "stream",
     "text": [
      "\n",
      "=== ANÁLISIS DEL LOG L5 ===\n",
      "\n",
      "Log: [<a,c,b>,<a,b,a>,<c,b,a>]\n",
      "\n",
      "Actividades: ['a', 'b', 'c']\n",
      "Tareas iniciales: ['a']\n",
      "Tareas finales: ['b']\n",
      "\n",
      "Matriz de huella:\n",
      "    a   b   c\n",
      "a   #  ||  ->\n",
      "b  ||   #  <-\n",
      "c  <-  ->   #\n",
      "\n",
      "Lugares identificados:\n",
      "p0: {a} → {c}\n",
      "p1: {c} → {b}\n",
      "p2: {iL} → {a}\n",
      "p3: {b} → {oL}\n",
      "\n",
      "Ejecutado correctamente\n",
      "\n",
      "--------------------------------------------------\n"
     ]
    }
   ],
   "source": [
    "log5 = \"[<a,c,b>,<a,b,a>,<c,b,a>]\"\n",
    "ejecutar_alpha(\"L5\", log5)"
   ]
  },
  {
   "cell_type": "markdown",
   "metadata": {},
   "source": [
    "## Análisis del Log 6\n",
    "Este log tiene múltiples rutas paralelas y elecciones."
   ]
  },
  {
   "cell_type": "code",
   "execution_count": 7,
   "metadata": {},
   "outputs": [
    {
     "name": "stdout",
     "output_type": "stream",
     "text": [
      "\n",
      "=== ANÁLISIS DEL LOG L6 ===\n",
      "\n",
      "Log: [<a,f,e,d,b>,<f,a,e,d,b>,<a,f,e,c,b>,<a,f,e,b,d>,<a,f,e,b,c>,<f,a,e,c,b>]\n",
      "\n",
      "Actividades: ['a', 'b', 'c', 'd', 'e', 'f']\n",
      "Tareas iniciales: ['a', 'f']\n",
      "Tareas finales: ['b', 'c', 'd']\n",
      "\n",
      "Matriz de huella:\n",
      "    a   b   c   d   e   f\n",
      "a   #   #   #   #  ->  ||\n",
      "b   #   #  ||  ||  <-   #\n",
      "c   #  ||   #   #  <-   #\n",
      "d   #  ||   #   #  <-   #\n",
      "e  <-  ->  ->  ->   #  <-\n",
      "f  ||   #   #   #  ->   #\n",
      "\n",
      "Lugares identificados:\n",
      "p0: {e} → {b}\n",
      "p1: {e} → {c, d}\n",
      "p2: {a, f} → {e}\n",
      "p3: {iL} → {a, f}\n",
      "p4: {b, c, d} → {oL}\n",
      "\n",
      "Ejecutado correctamente\n",
      "\n",
      "--------------------------------------------------\n"
     ]
    }
   ],
   "source": [
    "log6 = \"[<a,f,e,d,b>,<f,a,e,d,b>,<a,f,e,c,b>,<a,f,e,b,d>,<a,f,e,b,c>,<f,a,e,c,b>]\"\n",
    "ejecutar_alpha(\"L6\", log6)"
   ]
  },
  {
   "cell_type": "markdown",
   "metadata": {},
   "source": [
    "## Análisis del Log 7\n",
    "Este log presenta un proceso bastante complejo con rutas largas y algunos bucles."
   ]
  },
  {
   "cell_type": "code",
   "execution_count": 8,
   "metadata": {},
   "outputs": [
    {
     "name": "stdout",
     "output_type": "stream",
     "text": [
      "\n",
      "=== ANÁLISIS DEL LOG L7 ===\n",
      "\n",
      "Log: [<A,B,C,D,E,F,B,D,C,E,G>,<A,B,D,C,E,G>,<A,B,C,D,E,F,B,C,D,E,F,B,D,C,E,G>]\n",
      "\n",
      "Actividades: ['A', 'B', 'C', 'D', 'E', 'F', 'G']\n",
      "Tareas iniciales: ['A']\n",
      "Tareas finales: ['G']\n",
      "\n",
      "Matriz de huella:\n",
      "    A   B   C   D   E   F   G\n",
      "A   #  ->   #   #   #   #   #\n",
      "B  <-   #  ->  ->   #  <-   #\n",
      "C   #  <-   #  ||  ->   #   #\n",
      "D   #  <-  ||   #  ->   #   #\n",
      "E   #   #  <-  <-   #  ->  ->\n",
      "F   #  ->   #   #  <-   #   #\n",
      "G   #   #   #   #  <-   #   #\n",
      "\n",
      "Lugares identificados:\n",
      "p0: {B} → {C, D}\n",
      "p1: {E} → {F, G}\n",
      "p2: {A, F} → {B}\n",
      "p3: {C, D} → {E}\n",
      "p4: {iL} → {A}\n",
      "p5: {G} → {oL}\n",
      "\n",
      "Ejecutado correctamente\n",
      "\n",
      "--------------------------------------------------\n"
     ]
    }
   ],
   "source": [
    "log7 = \"[<A,B,C,D,E,F,B,D,C,E,G>,<A,B,D,C,E,G>,<A,B,C,D,E,F,B,C,D,E,F,B,D,C,E,G>]\"\n",
    "ejecutar_alpha(\"L7\", log7)"
   ]
  },
  {
   "cell_type": "markdown",
   "metadata": {},
   "source": [
    "## Análisis del Log 8\n",
    "Este log tiene un comportamiento interesante con lazos anidados."
   ]
  },
  {
   "cell_type": "code",
   "execution_count": 9,
   "metadata": {},
   "outputs": [
    {
     "name": "stdout",
     "output_type": "stream",
     "text": [
      "\n",
      "=== ANÁLISIS DEL LOG L8 ===\n",
      "\n",
      "Log: [<a,b,c,d>,<a,c,b,d>,<a,b,c,e,f,c,b,d>,<a,b,c,e,f,b,c,d>,<a,c,b,e,f,b,c,d>,<a,c,b,e,f,b,c,e,f,c,b,d>]\n",
      "\n",
      "Actividades: ['a', 'b', 'c', 'd', 'e', 'f']\n",
      "Tareas iniciales: ['a']\n",
      "Tareas finales: ['d']\n",
      "\n",
      "Matriz de huella:\n",
      "    a   b   c   d   e   f\n",
      "a   #  ->  ->   #   #   #\n",
      "b  <-   #  ||  ->  ->  <-\n",
      "c  <-  ||   #  ->  ->  <-\n",
      "d   #  <-  <-   #   #   #\n",
      "e   #  <-  <-   #   #  ->\n",
      "f   #  ->  ->   #  <-   #\n",
      "\n",
      "Lugares identificados:\n",
      "p0: {e} → {f}\n",
      "p1: {b} → {d, e}\n",
      "p2: {c} → {d, e}\n",
      "p3: {a, f} → {b}\n",
      "p4: {a, f} → {c}\n",
      "p5: {iL} → {a}\n",
      "p6: {d} → {oL}\n",
      "\n",
      "Ejecutado correctamente\n",
      "\n",
      "--------------------------------------------------\n"
     ]
    }
   ],
   "source": [
    "log8 = \"[<a,b,c,d>,<a,c,b,d>,<a,b,c,e,f,c,b,d>,<a,b,c,e,f,b,c,d>,<a,c,b,e,f,b,c,d>,<a,c,b,e,f,b,c,e,f,c,b,d>]\"\n",
    "ejecutar_alpha(\"L8\", log8)"
   ]
  },
  {
   "cell_type": "markdown",
   "metadata": {},
   "source": [
    "## Análisis del Log 9\n",
    "Este log muestra un patrón complejo con múltiples entradas y salidas paralelas."
   ]
  },
  {
   "cell_type": "code",
   "execution_count": 10,
   "metadata": {},
   "outputs": [
    {
     "name": "stdout",
     "output_type": "stream",
     "text": [
      "\n",
      "=== ANÁLISIS DEL LOG L9 ===\n",
      "\n",
      "Log: [<a,b,e,f>,<a,b,e,c,d,b,f>,<a,b,c,e,d,b,f>,<a,b,c,d,e,b,f>,<a,e,b,c,d,b,f>]\n",
      "\n",
      "Actividades: ['a', 'b', 'c', 'd', 'e', 'f']\n",
      "Tareas iniciales: ['a']\n",
      "Tareas finales: ['f']\n",
      "\n",
      "Matriz de huella:\n",
      "    a   b   c   d   e   f\n",
      "a   #  ->   #   #  ->   #\n",
      "b  <-   #  ->  <-  ||  ->\n",
      "c   #  <-   #  ->  ||   #\n",
      "d   #  ->  <-   #  ||   #\n",
      "e  <-  ||  ||  ||   #  ->\n",
      "f   #  <-   #   #  <-   #\n",
      "\n",
      "Lugares identificados:\n",
      "p0: {e} → {f}\n",
      "p1: {c} → {d}\n",
      "p2: {a} → {e}\n",
      "p3: {b} → {c, f}\n",
      "p4: {a, d} → {b}\n",
      "p5: {iL} → {a}\n",
      "p6: {f} → {oL}\n",
      "\n",
      "Ejecutado correctamente\n",
      "\n",
      "--------------------------------------------------\n"
     ]
    }
   ],
   "source": [
    "log9 = \"[<a,b,e,f>,<a,b,e,c,d,b,f>,<a,b,c,e,d,b,f>,<a,b,c,d,e,b,f>,<a,e,b,c,d,b,f>]\"\n",
    "ejecutar_alpha(\"L9\", log9)"
   ]
  },
  {
   "cell_type": "markdown",
   "metadata": {},
   "source": [
    "## Comparación de resultados\n",
    "\n",
    "Ahora podemos comparar los resultados de los diferentes logs para analizar cómo el algoritmo Alpha maneja diferentes estructuras de proceso."
   ]
  },
  {
   "cell_type": "code",
   "execution_count": null,
   "metadata": {},
   "outputs": [],
   "source": [
    "# Código para comparar características clave entre logs\n",
    "logs = [\n",
    "    (\"Log 1\", log1),\n",
    "    (\"Log 2\", log2),\n",
    "    (\"Log 3\", log3),\n",
    "    (\"Log 4\", log4),\n",
    "    (\"Log 5\", log5),\n",
    "    (\"Log 6\", log6),\n",
    "    (\"Log 7\", log7),\n",
    "    (\"Log 8\", log8),\n",
    "    (\"Log 9\", log9)\n",
    "]\n",
    "\n",
    "import pandas as pd\n",
    "\n",
    "# Crear una tabla comparativa\n",
    "datos_comparacion = []\n",
    "\n",
    "for nombre, log in logs:\n",
    "    try:\n",
    "        # Procesar el log\n",
    "        alpha = Alpha().analizar_log(log).calcular_relaciones().ejecutar_ocho_pasos()\n",
    "        \n",
    "        # Recopilar estadísticas\n",
    "        datos_comparacion.append({\n",
    "            \"Log\": nombre,\n",
    "            \"Actividades\": len(alpha.actividades),\n",
    "            \"Causalidad\": len(alpha.causalidad),\n",
    "            \"Paralelismo\": len(alpha.paralelo),\n",
    "            \"Decisión\": len(alpha.decision),\n",
    "            \"Lugares\": len(alpha.pl),\n",
    "            \"Flujos\": len(alpha.fl)\n",
    "        })\n",
    "    except Exception as e:\n",
    "        datos_comparacion.append({\n",
    "            \"Log\": nombre,\n",
    "            \"Actividades\": \"Error\",\n",
    "            \"Causalidad\": \"Error\",\n",
    "            \"Paralelismo\": \"Error\",\n",
    "            \"Decisión\": \"Error\",\n",
    "            \"Lugares\": \"Error\",\n",
    "            \"Flujos\": \"Error\"\n",
    "        })\n",
    "        print(f\"Error al procesar {nombre}: {e}\")\n",
    "\n",
    "# Crear y mostrar el DataFrame\n",
    "df_comparacion = pd.DataFrame(datos_comparacion)\n",
    "df_comparacion"
   ]
  },
  {
   "cell_type": "markdown",
   "metadata": {},
   "source": [
    "## Conclusiones\n",
    "\n",
    "Después de analizar los diferentes logs de eventos con el algoritmo Alpha, podemos observar:\n",
    "\n",
    "1. El algoritmo funciona bien con patrones simples de flujo y elección.\n",
    "2. Los logs con paralelismo son correctamente detectados y representados.\n",
    "3. Los bucles representan un desafío para el algoritmo Alpha básico.\n",
    "4. Los patrones complejos con múltiples entradas y salidas son manejados con diferentes grados de precisión.\n",
    "\n",
    "Este ejercicio demuestra las capacidades y limitaciones del algoritmo Alpha como una técnica fundamental de minería de procesos."
   ]
  }
 ],
 "metadata": {
  "kernelspec": {
   "display_name": "base",
   "language": "python",
   "name": "python3"
  },
  "language_info": {
   "codemirror_mode": {
    "name": "ipython",
    "version": 3
   },
   "file_extension": ".py",
   "mimetype": "text/x-python",
   "name": "python",
   "nbconvert_exporter": "python",
   "pygments_lexer": "ipython3",
   "version": "3.12.4"
  }
 },
 "nbformat": 4,
 "nbformat_minor": 2
}
